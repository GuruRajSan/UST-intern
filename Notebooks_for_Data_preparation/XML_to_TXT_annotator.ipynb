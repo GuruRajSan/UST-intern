{
 "cells": [
  {
   "cell_type": "markdown",
   "id": "f126cb48",
   "metadata": {},
   "source": [
    "This notebook was written in a local machine. It doesn't require CUDA or CUDNN. \n",
    "This notebook converts XML annotations into the TXT annotations required for YOLO.\n",
    "\n",
    "SOURCE - https://github.com/sowmyakavali/Data-convertion/blob/main/xml_to_txt.py\n",
    "       , https://medium.com/@sowmyakavali1998/convert-your-annotations-from-one-format-to-another-28abea383668"
   ]
  },
  {
   "cell_type": "markdown",
   "id": "1ef3beb6",
   "metadata": {},
   "source": [
    "## Variables to be modified "
   ]
  },
  {
   "cell_type": "code",
   "execution_count": null,
   "id": "53a09516",
   "metadata": {},
   "outputs": [],
   "source": [
    "# The source directory containing the xml annotations\n",
    "source_DIR = 'E:\\\\Python\\\\UST_files\\\\Data_sets\\\\Construction_helmet\\\\annotations_XML'\n",
    "\n",
    "# The destination directory where the .txt annotations are to be stored\n",
    "destination_DIR = 'E:\\\\Python\\\\UST_files\\\\Data_sets\\\\Construction_helmet\\\\annotations_TXT'\n",
    "\n",
    "#  Define your classes , you can add more \n",
    "lut={}\n",
    "lut[\"person\"] = 0\n",
    "lut[\"head\"] = 1\n",
    "lut[\"helmet\"] = 2"
   ]
  },
  {
   "cell_type": "markdown",
   "id": "01d937f4",
   "metadata": {},
   "source": [
    "## Installations and importations"
   ]
  },
  {
   "cell_type": "code",
   "execution_count": null,
   "id": "fa26758d",
   "metadata": {},
   "outputs": [],
   "source": [
    "# COMMAND : py xml_to_txt.py -i car\\xmls -o car\\txts\n",
    "# Here you need to change the dictionary as per your classes\n",
    "import os\n",
    "import glob\n",
    "import argparse\n",
    "from xml.dom import minidom"
   ]
  },
  {
   "cell_type": "markdown",
   "id": "6484ecee",
   "metadata": {},
   "source": [
    "## Main code here"
   ]
  },
  {
   "cell_type": "code",
   "execution_count": 7,
   "id": "b09fb1b3",
   "metadata": {},
   "outputs": [],
   "source": [
    "def convert_coordinates(size, box):\n",
    "    dw = 1.0/size[0]\n",
    "    dh = 1.0/size[1]\n",
    "    x = (box[0]+box[1])/2.0\n",
    "    y = (box[2]+box[3])/2.0\n",
    "    w = box[1]-box[0]\n",
    "    h = box[3]-box[2]\n",
    "    x = x*dw\n",
    "    w = w*dw\n",
    "    y = y*dh\n",
    "    h = h*dh\n",
    "    return (x,y,w,h)\n",
    "\n",
    "def xml_to_txt( lut ,input ,output):\n",
    "\n",
    "    # Start writing  \n",
    "    for xml in glob.glob( os.path.join(input , \"*.xml\") ): \n",
    "        xmldoc = minidom.parse(xml)  \n",
    "        # define output filename    \n",
    "        fname_out = xml.split(\"\\\\\")[-1] \n",
    "        fname_out = (os.path.join(output, fname_out.split(\".\")[0] + '.txt'))\n",
    "\n",
    "        with open(fname_out, \"w\") as f:\n",
    "            # Get image properties\n",
    "            itemlist = xmldoc.getElementsByTagName('object')\n",
    "            size = xmldoc.getElementsByTagName('size')[0]\n",
    "            width = int((size.getElementsByTagName('width')[0]).firstChild.data)\n",
    "            height = int((size.getElementsByTagName('height')[0]).firstChild.data)\n",
    "\n",
    "            for item in itemlist:\n",
    "                # get class label\n",
    "                classid =  (item.getElementsByTagName('name')[0]).firstChild.data\n",
    "                if classid in lut:\n",
    "                    label_str = str(lut[classid])\n",
    "                else:\n",
    "                    # label_str = \"-1\"\n",
    "                    print (\"warning: label '%s' not in look-up table\" % classid)\n",
    "                    continue\n",
    "                    \n",
    "                # get bbox coordinates\n",
    "                xmin = ((item.getElementsByTagName('bndbox')[0]).getElementsByTagName('xmin')[0]).firstChild.data\n",
    "                ymin = ((item.getElementsByTagName('bndbox')[0]).getElementsByTagName('ymin')[0]).firstChild.data\n",
    "                xmax = ((item.getElementsByTagName('bndbox')[0]).getElementsByTagName('xmax')[0]).firstChild.data\n",
    "                ymax = ((item.getElementsByTagName('bndbox')[0]).getElementsByTagName('ymax')[0]).firstChild.data\n",
    "                b = (float(xmin), float(xmax), float(ymin), float(ymax))\n",
    "                bb = convert_coordinates((width,height), b)\n",
    "                # Write out the file\n",
    "                f.write(label_str + \" \" + \" \".join([(\"%.6f\" % a) for a in bb]) + '\\n')  \n",
    "\n",
    "\n",
    "# Create output path if not already exists\n",
    "if not os.path.exists(destination_DIR):\n",
    "    os.makedirs(destination_DIR)\n",
    "\n",
    "# Write out to txts\n",
    "xml_to_txt( lut , source_DIR, destination_DIR)          "
   ]
  }
 ],
 "metadata": {
  "kernelspec": {
   "display_name": "Python 3 (ipykernel)",
   "language": "python",
   "name": "python3"
  },
  "language_info": {
   "codemirror_mode": {
    "name": "ipython",
    "version": 3
   },
   "file_extension": ".py",
   "mimetype": "text/x-python",
   "name": "python",
   "nbconvert_exporter": "python",
   "pygments_lexer": "ipython3",
   "version": "3.8.13"
  }
 },
 "nbformat": 4,
 "nbformat_minor": 5
}
