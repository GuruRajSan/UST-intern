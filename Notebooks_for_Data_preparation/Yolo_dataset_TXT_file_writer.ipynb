{
 "cells": [
  {
   "cell_type": "markdown",
   "id": "d4a05320",
   "metadata": {},
   "source": [
    "This notebook was written and used on a local machine and doesn't require CUDA or CUDNN.\n",
    "This notebook was used to create the train.txt, test.txt, valid.txt files from the dataset images for YOLO training. "
   ]
  },
  {
   "cell_type": "markdown",
   "id": "61681aac",
   "metadata": {},
   "source": [
    "## Variables to be modifed "
   ]
  },
  {
   "cell_type": "code",
   "execution_count": null,
   "id": "713c1020",
   "metadata": {},
   "outputs": [],
   "source": [
    "# Get the source folder containing the series of files\n",
    "source_DIR = 'C:\\\\ALL_FILES\\\\Codes\\\\Python\\\\UST_files\\\\Yolo_builds\\\\Colour_Helmet_detection\\\\Data_set\\\\Images_and_annotations'\n",
    "\n",
    "# The folder path of the images as to be written in the .txt files (Copy relative to intended darknet)\n",
    "souce_DIR_copy = 'Yolo_builds/Colour_Helmet_detection/Data_set/Images_and_annotations'\n",
    "\n",
    "# Get the destination folder where the .txt files are to be saved\n",
    "destination_DIR = 'C:\\\\ALL_FILES\\\\Codes\\\\Python\\\\UST_files\\\\Yolo_builds\\\\Colour_Helmet_detection'\n",
    "\n",
    "# Splitting of the source folder files\n",
    "trainset_size = 2700\n",
    "validset_size = 300\n",
    "testset_size = 174"
   ]
  },
  {
   "cell_type": "markdown",
   "id": "83e72c2c",
   "metadata": {},
   "source": [
    "## Installations and importations"
   ]
  },
  {
   "cell_type": "code",
   "execution_count": null,
   "id": "1a482a7e",
   "metadata": {},
   "outputs": [],
   "source": [
    "import os"
   ]
  },
  {
   "cell_type": "markdown",
   "id": "31007645",
   "metadata": {},
   "source": [
    "## Make sure that the kernel is opened from just inside the python folder"
   ]
  },
  {
   "cell_type": "code",
   "execution_count": 6,
   "id": "31c6f496",
   "metadata": {},
   "outputs": [],
   "source": [
    "# Get all files in the source folder\n",
    "source_files = os.listdir(source_DIR)\n",
    "\n",
    "# Write the train.txt file\n",
    "with open(destination_DIR + '\\\\train_data.txt', \"w\") as f:\n",
    "    for i in range(trainset_size-1):\n",
    "        f.write(souce_DIR_copy + '/' + source_files[i] + '\\n')\n",
    "    f.write(souce_DIR_copy + '/' + source_files[trainset_size-1])\n",
    "\n",
    "# Write the valid.txt file\n",
    "with open(destination_DIR + '\\\\valid_data.txt', \"w\") as f:\n",
    "    for i in range(validset_size-1):\n",
    "        f.write(souce_DIR_copy + '/' + source_files[i + trainset_size] + '\\n')\n",
    "    f.write(souce_DIR_copy + '/' + source_files[validset_size-1 + trainset_size])\n",
    "\n",
    "# Write the test.txt file\n",
    "with open(destination_DIR + '\\\\test_data.txt', \"w\") as f:\n",
    "    for i in range(testset_size-1):\n",
    "        f.write(souce_DIR_copy + '/' + source_files[i + trainset_size + validset_size] + '\\n')\n",
    "    f.write(souce_DIR_copy + '/' + source_files[testset_size-1 + validset_size + trainset_size])"
   ]
  }
 ],
 "metadata": {
  "kernelspec": {
   "display_name": "Python 3 (ipykernel)",
   "language": "python",
   "name": "python3"
  },
  "language_info": {
   "codemirror_mode": {
    "name": "ipython",
    "version": 3
   },
   "file_extension": ".py",
   "mimetype": "text/x-python",
   "name": "python",
   "nbconvert_exporter": "python",
   "pygments_lexer": "ipython3",
   "version": "3.8.13"
  }
 },
 "nbformat": 4,
 "nbformat_minor": 5
}
